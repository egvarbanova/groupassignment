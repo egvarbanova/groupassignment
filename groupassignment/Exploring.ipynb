{
 "cells": [
  {
   "cell_type": "code",
   "execution_count": 44,
   "id": "7d1634d7-f76b-49ef-b35c-b0069d489fa4",
   "metadata": {},
   "outputs": [],
   "source": [
    "import pandas as pd \n"
   ]
  },
  {
   "cell_type": "code",
   "execution_count": 45,
   "id": "0eabeb4f-576f-4700-aaff-ebf805af7748",
   "metadata": {},
   "outputs": [],
   "source": [
    "df_googlebooks1= pd.read_csv('google_books_1299.csv', header=0, delimiter=',')"
   ]
  },
  {
   "cell_type": "code",
   "execution_count": 46,
   "id": "dbca6ab7-aee7-4ec5-b849-afa1d44f10e3",
   "metadata": {},
   "outputs": [
    {
     "data": {
      "text/html": [
       "<div>\n",
       "<style scoped>\n",
       "    .dataframe tbody tr th:only-of-type {\n",
       "        vertical-align: middle;\n",
       "    }\n",
       "\n",
       "    .dataframe tbody tr th {\n",
       "        vertical-align: top;\n",
       "    }\n",
       "\n",
       "    .dataframe thead th {\n",
       "        text-align: right;\n",
       "    }\n",
       "</style>\n",
       "<table border=\"1\" class=\"dataframe\">\n",
       "  <thead>\n",
       "    <tr style=\"text-align: right;\">\n",
       "      <th></th>\n",
       "      <th>Unnamed: 0</th>\n",
       "      <th>title</th>\n",
       "      <th>author</th>\n",
       "      <th>rating</th>\n",
       "      <th>voters</th>\n",
       "      <th>price</th>\n",
       "      <th>currency</th>\n",
       "      <th>description</th>\n",
       "      <th>publisher</th>\n",
       "      <th>page_count</th>\n",
       "      <th>generes</th>\n",
       "      <th>ISBN</th>\n",
       "      <th>language</th>\n",
       "      <th>published_date</th>\n",
       "    </tr>\n",
       "  </thead>\n",
       "  <tbody>\n",
       "    <tr>\n",
       "      <th>0</th>\n",
       "      <td>0</td>\n",
       "      <td>Attack on Titan: Volume 13</td>\n",
       "      <td>Hajime Isayama</td>\n",
       "      <td>4.6</td>\n",
       "      <td>428</td>\n",
       "      <td>43.28</td>\n",
       "      <td>SAR</td>\n",
       "      <td>NO SAFE PLACE LEFT At great cost to the Garris...</td>\n",
       "      <td>Kodansha Comics</td>\n",
       "      <td>192</td>\n",
       "      <td>none</td>\n",
       "      <td>9781612626864</td>\n",
       "      <td>English</td>\n",
       "      <td>Jul 31, 2014</td>\n",
       "    </tr>\n",
       "    <tr>\n",
       "      <th>1</th>\n",
       "      <td>1</td>\n",
       "      <td>Antiques Roadkill: A Trash 'n' Treasures Mystery</td>\n",
       "      <td>Barbara Allan</td>\n",
       "      <td>3.3</td>\n",
       "      <td>23</td>\n",
       "      <td>26.15</td>\n",
       "      <td>SAR</td>\n",
       "      <td>Determined to make a new start in her quaint h...</td>\n",
       "      <td>Kensington Publishing Corp.</td>\n",
       "      <td>288</td>\n",
       "      <td>Fiction , Mystery &amp;amp, Detective , Cozy , Gen...</td>\n",
       "      <td>9780758272799</td>\n",
       "      <td>English</td>\n",
       "      <td>Jul 1, 2007</td>\n",
       "    </tr>\n",
       "    <tr>\n",
       "      <th>2</th>\n",
       "      <td>2</td>\n",
       "      <td>The Art of Super Mario Odyssey</td>\n",
       "      <td>Nintendo</td>\n",
       "      <td>3.9</td>\n",
       "      <td>9</td>\n",
       "      <td>133.85</td>\n",
       "      <td>SAR</td>\n",
       "      <td>Take a globetrotting journey all over the worl...</td>\n",
       "      <td>Dark Horse Comics</td>\n",
       "      <td>368</td>\n",
       "      <td>Games &amp;amp, Activities , Video &amp;amp, Electronic</td>\n",
       "      <td>9781506713816</td>\n",
       "      <td>English</td>\n",
       "      <td>Nov 5, 2019</td>\n",
       "    </tr>\n",
       "    <tr>\n",
       "      <th>3</th>\n",
       "      <td>3</td>\n",
       "      <td>Getting Away Is Deadly: An Ellie Avery Mystery</td>\n",
       "      <td>Sara Rosett</td>\n",
       "      <td>4.0</td>\n",
       "      <td>10</td>\n",
       "      <td>26.15</td>\n",
       "      <td>SAR</td>\n",
       "      <td>With swollen feet and swelling belly, pregnant...</td>\n",
       "      <td>Kensington Publishing Corp.</td>\n",
       "      <td>320</td>\n",
       "      <td>none</td>\n",
       "      <td>9781617734076</td>\n",
       "      <td>English</td>\n",
       "      <td>Mar 1, 2009</td>\n",
       "    </tr>\n",
       "    <tr>\n",
       "      <th>4</th>\n",
       "      <td>4</td>\n",
       "      <td>The Painted Man (The Demon Cycle, Book 1)</td>\n",
       "      <td>Peter V. Brett</td>\n",
       "      <td>4.5</td>\n",
       "      <td>577</td>\n",
       "      <td>28.54</td>\n",
       "      <td>SAR</td>\n",
       "      <td>The stunning debut fantasy novel from author P...</td>\n",
       "      <td>HarperCollins UK</td>\n",
       "      <td>544</td>\n",
       "      <td>Fiction , Fantasy , Dark Fantasy</td>\n",
       "      <td>9780007287758</td>\n",
       "      <td>English</td>\n",
       "      <td>Jan 8, 2009</td>\n",
       "    </tr>\n",
       "  </tbody>\n",
       "</table>\n",
       "</div>"
      ],
      "text/plain": [
       "   Unnamed: 0                                             title  \\\n",
       "0           0                        Attack on Titan: Volume 13   \n",
       "1           1  Antiques Roadkill: A Trash 'n' Treasures Mystery   \n",
       "2           2                    The Art of Super Mario Odyssey   \n",
       "3           3    Getting Away Is Deadly: An Ellie Avery Mystery   \n",
       "4           4         The Painted Man (The Demon Cycle, Book 1)   \n",
       "\n",
       "           author  rating voters   price currency  \\\n",
       "0  Hajime Isayama     4.6    428   43.28      SAR   \n",
       "1   Barbara Allan     3.3     23   26.15      SAR   \n",
       "2        Nintendo     3.9      9  133.85      SAR   \n",
       "3     Sara Rosett     4.0     10   26.15      SAR   \n",
       "4  Peter V. Brett     4.5    577   28.54      SAR   \n",
       "\n",
       "                                         description  \\\n",
       "0  NO SAFE PLACE LEFT At great cost to the Garris...   \n",
       "1  Determined to make a new start in her quaint h...   \n",
       "2  Take a globetrotting journey all over the worl...   \n",
       "3  With swollen feet and swelling belly, pregnant...   \n",
       "4  The stunning debut fantasy novel from author P...   \n",
       "\n",
       "                     publisher  page_count  \\\n",
       "0              Kodansha Comics         192   \n",
       "1  Kensington Publishing Corp.         288   \n",
       "2            Dark Horse Comics         368   \n",
       "3  Kensington Publishing Corp.         320   \n",
       "4             HarperCollins UK         544   \n",
       "\n",
       "                                             generes           ISBN language  \\\n",
       "0                                               none  9781612626864  English   \n",
       "1  Fiction , Mystery &amp, Detective , Cozy , Gen...  9780758272799  English   \n",
       "2    Games &amp, Activities , Video &amp, Electronic  9781506713816  English   \n",
       "3                                               none  9781617734076  English   \n",
       "4                   Fiction , Fantasy , Dark Fantasy  9780007287758  English   \n",
       "\n",
       "  published_date  \n",
       "0   Jul 31, 2014  \n",
       "1    Jul 1, 2007  \n",
       "2    Nov 5, 2019  \n",
       "3    Mar 1, 2009  \n",
       "4    Jan 8, 2009  "
      ]
     },
     "execution_count": 46,
     "metadata": {},
     "output_type": "execute_result"
    }
   ],
   "source": [
    "df_googlebooks1.head()"
   ]
  },
  {
   "cell_type": "code",
   "execution_count": 47,
   "id": "7c810b1a-9829-4387-95ef-d04a2952c3ab",
   "metadata": {},
   "outputs": [
    {
     "data": {
      "text/plain": [
       "Unnamed: 0         0\n",
       "title              0\n",
       "author             0\n",
       "rating            75\n",
       "voters            75\n",
       "price              0\n",
       "currency           0\n",
       "description        3\n",
       "publisher          0\n",
       "page_count         0\n",
       "generes            0\n",
       "ISBN               0\n",
       "language           0\n",
       "published_date     0\n",
       "dtype: int64"
      ]
     },
     "execution_count": 47,
     "metadata": {},
     "output_type": "execute_result"
    }
   ],
   "source": [
    "df_googlebooks1.isna().sum()"
   ]
  },
  {
   "cell_type": "code",
   "execution_count": 48,
   "id": "7344d1f8-c0e4-40ff-8724-11d37328c00a",
   "metadata": {},
   "outputs": [
    {
     "data": {
      "text/plain": [
       "Index(['Unnamed: 0', 'title', 'author', 'rating', 'voters', 'price',\n",
       "       'currency', 'description', 'publisher', 'page_count', 'generes', 'ISBN',\n",
       "       'language', 'published_date'],\n",
       "      dtype='object')"
      ]
     },
     "execution_count": 48,
     "metadata": {},
     "output_type": "execute_result"
    }
   ],
   "source": [
    "df_googlebooks1.columns"
   ]
  },
  {
   "cell_type": "code",
   "execution_count": 49,
   "id": "b3a83968-dd61-4fa6-acb8-0e873397c069",
   "metadata": {},
   "outputs": [
    {
     "data": {
      "text/plain": [
       "Unnamed: 0          int64\n",
       "title              object\n",
       "author             object\n",
       "rating            float64\n",
       "voters             object\n",
       "price             float64\n",
       "currency           object\n",
       "description        object\n",
       "publisher          object\n",
       "page_count          int64\n",
       "generes            object\n",
       "ISBN               object\n",
       "language           object\n",
       "published_date     object\n",
       "dtype: object"
      ]
     },
     "execution_count": 49,
     "metadata": {},
     "output_type": "execute_result"
    }
   ],
   "source": [
    "df_googlebooks1.dtypes"
   ]
  },
  {
   "cell_type": "code",
   "execution_count": 50,
   "id": "d9ef0961-4272-4f04-9be9-9d723324762b",
   "metadata": {},
   "outputs": [
    {
     "data": {
      "text/plain": [
       "Unnamed: 0        0\n",
       "title             0\n",
       "author            0\n",
       "rating            0\n",
       "voters            0\n",
       "price             0\n",
       "currency          0\n",
       "description       3\n",
       "publisher         0\n",
       "page_count        0\n",
       "generes           0\n",
       "ISBN              0\n",
       "language          0\n",
       "published_date    0\n",
       "dtype: int64"
      ]
     },
     "execution_count": 50,
     "metadata": {},
     "output_type": "execute_result"
    }
   ],
   "source": [
    "#Drop missing values in the ratings column as those are relevant for our project\n",
    "df_googlebooks1 = df_googlebooks1.dropna(subset=[\"rating\"])\n",
    "df_googlebooks1.isna().sum()"
   ]
  },
  {
   "cell_type": "code",
   "execution_count": 51,
   "id": "3f98cce1-bae6-43a6-9e58-93b529090d78",
   "metadata": {},
   "outputs": [
    {
     "data": {
      "text/plain": [
       "rating\n",
       "2.5     11\n",
       "3.3      8\n",
       "3.5      9\n",
       "3.6      4\n",
       "3.7     17\n",
       "3.8     32\n",
       "3.9     29\n",
       "4.0    105\n",
       "4.1     62\n",
       "4.2     53\n",
       "4.3    101\n",
       "4.4    109\n",
       "4.5    175\n",
       "4.6    163\n",
       "4.7    139\n",
       "4.8     79\n",
       "4.9     20\n",
       "5.0    108\n",
       "dtype: int64"
      ]
     },
     "execution_count": 51,
     "metadata": {},
     "output_type": "execute_result"
    }
   ],
   "source": [
    "df_googlebooks1.groupby(['rating']).size()"
   ]
  },
  {
   "cell_type": "markdown",
   "id": "1cab16b9-8c3a-4a41-97a9-f43a0b1aeb08",
   "metadata": {},
   "source": [
    "Ratings range from 2.5 to 5.0. This is checked by the groupby.size() function."
   ]
  },
  {
   "cell_type": "code",
   "execution_count": 52,
   "id": "7903283c-88a5-4fe4-8d2a-6f9fc9e49a31",
   "metadata": {},
   "outputs": [
    {
     "data": {
      "text/plain": [
       "generes\n",
       "Art , Popular Culture                                                    1\n",
       "Art , Video Game Art                                                     1\n",
       "Biography &amp, Autobiography , Business                                 1\n",
       "Biography &amp, Autobiography , Entertainment &amp, Performing Arts      2\n",
       "Biography &amp, Autobiography , Environmentalists &amp, Naturalists      1\n",
       "                                                                      ... \n",
       "Young Adult Fiction , Fantasy , Dark Fantasy                             1\n",
       "Young Adult Fiction , Fantasy , Epic                                     2\n",
       "Young Adult Fiction , Humorous , General                                 1\n",
       "Young Adult Fiction , Science Fiction , Alien Contact                    1\n",
       "none                                                                   499\n",
       "Length: 226, dtype: int64"
      ]
     },
     "execution_count": 52,
     "metadata": {},
     "output_type": "execute_result"
    }
   ],
   "source": [
    "#checking how many genres there are\n",
    "df_googlebooks1.groupby(['generes']).size()"
   ]
  },
  {
   "cell_type": "code",
   "execution_count": 54,
   "id": "392f0097-4697-4d62-a1ba-b89ba9d352b4",
   "metadata": {},
   "outputs": [
    {
     "data": {
      "text/plain": [
       "count    1224.000000\n",
       "mean        4.424755\n",
       "std         0.392489\n",
       "min         2.500000\n",
       "25%         4.200000\n",
       "50%         4.500000\n",
       "75%         4.700000\n",
       "max         5.000000\n",
       "Name: rating, dtype: float64"
      ]
     },
     "execution_count": 54,
     "metadata": {},
     "output_type": "execute_result"
    }
   ],
   "source": [
    "df_googlebooks1[\"rating\"].describe()"
   ]
  },
  {
   "cell_type": "code",
   "execution_count": 59,
   "id": "f1ab4eec-2a57-4dd1-946e-5f53141455c0",
   "metadata": {},
   "outputs": [],
   "source": [
    "import matplotlib.pyplot as plt\n",
    "import seaborn as sns"
   ]
  },
  {
   "cell_type": "code",
   "execution_count": 79,
   "id": "e2d47d87-c13e-46af-9fb7-8a00f0a5db55",
   "metadata": {},
   "outputs": [
    {
     "data": {
      "text/plain": [
       "<AxesSubplot:xlabel='rating', ylabel='Count'>"
      ]
     },
     "execution_count": 79,
     "metadata": {},
     "output_type": "execute_result"
    },
    {
     "data": {
      "image/png": "[encoded data removed]",
      "text/plain": [
       "<Figure size 432x288 with 1 Axes>"
      ]
     },
     "metadata": {
      "needs_background": "light"
     },
     "output_type": "display_data"
    }
   ],
   "source": [
    "#with seaborn\n",
    "sns.set_palette(\"YlOrBr\")#setting a colour palette\n",
    "sns.histplot(data=df_googlebooks1, x='rating')"
   ]
  },
  {
   "cell_type": "code",
   "execution_count": null,
   "id": "6715cf86-841e-466a-9c99-79e6dc32d6cd",
   "metadata": {},
   "outputs": [],
   "source": []
  }
 ],
 "metadata": {
  "kernelspec": {
   "display_name": "Python 3 (ipykernel)",
   "language": "python",
   "name": "python3"
  },
  "language_info": {
   "codemirror_mode": {
    "name": "ipython",
    "version": 3
   },
   "file_extension": ".py",
   "mimetype": "text/x-python",
   "name": "python",
   "nbconvert_exporter": "python",
   "pygments_lexer": "ipython3",
   "version": "3.9.7"
  }
 },
 "nbformat": 4,
 "nbformat_minor": 5
}
